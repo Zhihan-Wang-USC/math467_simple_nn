{
 "cells": [
  {
   "cell_type": "code",
   "execution_count": 1,
   "metadata": {},
   "outputs": [
    {
     "data": {
      "text/plain": [
       "6"
      ]
     },
     "execution_count": 1,
     "metadata": {},
     "output_type": "execute_result"
    }
   ],
   "source": [
    "import os\n",
    "os.environ['KMP_DUPLICATE_LIB_OK']='True'\n",
    "\n",
    "import numpy as np\n",
    "import matplotlib.pyplot as plt\n",
    "from utils.getdata import get_data\n",
    "from utils import simple_network, create_network, visualize_nn\n",
    "from utils import get_nn_weight, set_nn_weight\n",
    "\n",
    "from numpy.random import standard_normal as randn\n",
    "from numpy.random import rand as rand\n",
    "import torch\n",
    "1+2+3"
   ]
  },
  {
   "cell_type": "code",
   "execution_count": null,
   "metadata": {},
   "outputs": [],
   "source": [
    "from utils import draw_simple_neural_network\n",
    "\n",
    "\n",
    "network = utils.simple_network(2, [8,8,1])\n",
    "draw_simple_neural_network(network)"
   ]
  },
  {
   "cell_type": "code",
   "execution_count": null,
   "metadata": {},
   "outputs": [],
   "source": []
  },
  {
   "cell_type": "code",
   "execution_count": null,
   "metadata": {},
   "outputs": [],
   "source": [
    "\n",
    "\n",
    "\n",
    "\n",
    "# activationfunction=torch.nn.Sigmoid\n",
    "# layers = [2, 4, 4, 2]\n",
    "# network = utils.create_network(2, layers[1:])\n",
    "# network\n",
    "\n",
    "\n",
    "\n"
   ]
  },
  {
   "cell_type": "code",
   "execution_count": null,
   "metadata": {},
   "outputs": [],
   "source": [
    "from utils.create_network import simple_network\n",
    "\n",
    "\n",
    "network = simple_network(2, [8,8,1])\n",
    "network"
   ]
  },
  {
   "cell_type": "code",
   "execution_count": null,
   "metadata": {},
   "outputs": [],
   "source": [
    "network[1].fc.bias.reshape(-1)"
   ]
  },
  {
   "cell_type": "code",
   "execution_count": null,
   "metadata": {},
   "outputs": [],
   "source": [
    "network[1].fc.weight.reshape(-1)"
   ]
  },
  {
   "cell_type": "code",
   "execution_count": null,
   "metadata": {},
   "outputs": [],
   "source": [
    "def get_nn_weight(network):\n",
    "    sd = network.state_dict()\n",
    "    weights = np.array([])\n",
    "    for key, val in sd.items():\n",
    "        weights = np.append(weights, val.reshape(-1).numpy())\n",
    "    return weights\n",
    "\n",
    "def set_nn_weight(network, weights):\n",
    "    with torch.no_grad():\n",
    "        sd = network.state_dict()\n",
    "        idx = 0\n",
    "        for key, val in sd.items():\n",
    "            sd[key] = torch.tensor(weights[idx:idx+val.reshape(-1).shape[0]]).reshape(val.shape)\n",
    "            idx += val.reshape(-1).shape[0]\n",
    "        network.load_state_dict(sd)\n",
    "    return network\n",
    "\n",
    "w0 = get_nn_weight(network)\n",
    "network.state_dict()\n",
    "\n",
    "\n"
   ]
  },
  {
   "cell_type": "code",
   "execution_count": null,
   "metadata": {},
   "outputs": [],
   "source": [
    "w1 = np.ones_like(w0)\n",
    "set_nn_weight(network, w1)\n",
    "network.state_dict()\n",
    "\n"
   ]
  },
  {
   "cell_type": "code",
   "execution_count": null,
   "metadata": {},
   "outputs": [],
   "source": [
    "set_nn_weight(network, w0)\n",
    "network.state_dict()"
   ]
  },
  {
   "cell_type": "code",
   "execution_count": null,
   "metadata": {},
   "outputs": [],
   "source": [
    "def get_nn_weightv0(network):\n",
    "    weights = np.array([])\n",
    "    for block in network:\n",
    "        weights = np.append(weights, block.fc.weight.reshape(-1).detach().numpy())\n",
    "        weights = np.append(weights, block.fc.bias.reshape(-1).detach().numpy())\n",
    "    return weights\n",
    "\n",
    "get_nn_weightv0(network)"
   ]
  },
  {
   "cell_type": "code",
   "execution_count": null,
   "metadata": {},
   "outputs": [],
   "source": [
    "w1 = get_nn_weight(network)\n",
    "len(w1)"
   ]
  },
  {
   "cell_type": "code",
   "execution_count": null,
   "metadata": {},
   "outputs": [],
   "source": [
    "weights = w1\n",
    "idx_weight = 0\n",
    "for block in network:\n",
    "    block.fc.weight"
   ]
  },
  {
   "cell_type": "code",
   "execution_count": null,
   "metadata": {},
   "outputs": [],
   "source": []
  },
  {
   "cell_type": "code",
   "execution_count": null,
   "metadata": {},
   "outputs": [],
   "source": [
    "for name, param in network.named_parameters():\n",
    "    print(name, param.reshape(-1))"
   ]
  },
  {
   "cell_type": "code",
   "execution_count": null,
   "metadata": {},
   "outputs": [],
   "source": [
    "for param in network.parameters():\n",
    "    print(param.reshape(-1))"
   ]
  },
  {
   "cell_type": "code",
   "execution_count": null,
   "metadata": {},
   "outputs": [],
   "source": [
    "# network[0].weight\n",
    "network[1].__dict__\n"
   ]
  },
  {
   "cell_type": "code",
   "execution_count": null,
   "metadata": {},
   "outputs": [],
   "source": [
    "network[1].__dict__"
   ]
  },
  {
   "cell_type": "code",
   "execution_count": null,
   "metadata": {},
   "outputs": [],
   "source": []
  },
  {
   "cell_type": "code",
   "execution_count": null,
   "metadata": {},
   "outputs": [],
   "source": []
  },
  {
   "cell_type": "code",
   "execution_count": null,
   "metadata": {},
   "outputs": [],
   "source": [
    "sum(p.numel() for p in network.parameters())\n"
   ]
  },
  {
   "cell_type": "code",
   "execution_count": null,
   "metadata": {},
   "outputs": [],
   "source": [
    "print([p.numel() for p in network.parameters()])"
   ]
  },
  {
   "cell_type": "code",
   "execution_count": null,
   "metadata": {},
   "outputs": [],
   "source": [
    "'''\n",
    "    Adobted from Math 467 Theory and Computational Methods for Optimization\n",
    "    project1 by: Dr. Chunming Wang\n",
    "\n",
    "    Translated from MATLAB to Python by: Zhihan Wang\n",
    "'''\n",
    "\n",
    "\n",
    "import os\n",
    "os.environ['KMP_DUPLICATE_LIB_OK']='True'\n",
    "\n",
    "import numpy as np\n",
    "import matplotlib.pyplot as plt\n",
    "from utils.getdata import get_data\n",
    "from utils import simple_network, create_network, visualize_nn\n",
    "from utils import get_nn_weight, set_nn_weight\n",
    "\n",
    "from numpy.random import standard_normal as randn\n",
    "from numpy.random import rand as rand\n",
    "import torch\n",
    "\n",
    "\n",
    "'''\n",
    "Description: This is a script the performs a test of basic neural network\n",
    "routines.\n",
    "Usage: Experiment_Basic_NNTools(nTrials)\n",
    "'''\n",
    "\n",
    "def experiment_basic_nn_tools(n_trails = 1000):\n",
    "\n",
    "    # Generate data and plot distribution\n",
    "    x_data,y_data = get_data(100, 2, 1234567890)\n",
    "    x_data = x_data.transpose()\n",
    "    ind0 = np.where(y_data==0)[1]\n",
    "    ind1 = np.where(y_data==1)[1]\n",
    "\n",
    "    fig, ax = plt.subplots( figsize=(6,4) )\n",
    "    ax.bar([0,1],[len(ind0),len(ind1)])\n",
    "    ax.set_xticks([0,1])\n",
    "    plt.show(block=False)\n",
    "\n",
    "    # draw network graph\n",
    "    network = create_network(2,[2,4,2])\n",
    "    visualize_nn(network)\n",
    "\n",
    "\n",
    "    # Initialize network using randomly generated weights.\n",
    "    weight = get_nn_weight(network)\n",
    "    weight = np.squeeze(0.01*randn([*weight.shape,n_trails]))\n",
    "    rms = np.zeros((n_trails,1))\n",
    "    for i in range(n_trails):\n",
    "        network = set_nn_weight(network, weight[:,i])\n",
    "        yVal = network(torch.tensor(x_data,dtype=torch.float32))\n",
    "        rms[i] = np.sqrt(np.sum((y_data-yVal.detach().numpy())**2)/(n_trails-1))\n",
    "    fig, ax = plt.subplots( figsize=(6,4) )\n",
    "    ax.hist(rms,20)\n",
    "    plt.show()\n",
    "    return\n",
    "\n",
    "\n",
    "experiment_basic_nn_tools()\n",
    "\n",
    "\n",
    "\n"
   ]
  },
  {
   "cell_type": "code",
   "execution_count": 4,
   "metadata": {},
   "outputs": [
    {
     "data": {
      "image/png": "[encoded data removed]",
      "text/plain": [
       "<Figure size 432x288 with 1 Axes>"
      ]
     },
     "metadata": {
      "needs_background": "light"
     },
     "output_type": "display_data"
    },
    {
     "data": {
      "image/png": "[encoded data removed]",
      "text/plain": [
       "<Figure size 432x288 with 1 Axes>"
      ]
     },
     "metadata": {
      "needs_background": "light"
     },
     "output_type": "display_data"
    },
    {
     "data": {
      "image/png": "[encoded data removed]",
      "text/plain": [
       "<Figure size 432x288 with 1 Axes>"
      ]
     },
     "metadata": {
      "needs_background": "light"
     },
     "output_type": "display_data"
    }
   ],
   "source": [
    "n_trails = 1000\n",
    "\n",
    "# Generate data and plot distribution\n",
    "x_data,y_data = get_data(100, 2, 1234567890)\n",
    "x_data = x_data.transpose()\n",
    "ind0 = np.where(y_data==0)[1]\n",
    "ind1 = np.where(y_data==1)[1]\n",
    "\n",
    "fig, ax = plt.subplots( figsize=(6,4) )\n",
    "ax.bar([0,1],[len(ind0),len(ind1)])\n",
    "ax.set_xticks([0,1])\n",
    "plt.show(block=False)\n",
    "\n",
    "# draw network graph\n",
    "network = create_network(2,[2,4,1])\n",
    "visualize_nn(network)\n",
    "\n",
    "\n",
    "# Initialize network using randomly generated weights.\n",
    "weight = get_nn_weight(network)\n",
    "weight = np.squeeze(0.01*randn([*weight.shape,n_trails]))\n",
    "rms = np.zeros((n_trails,1))\n",
    "for i in range(n_trails):\n",
    "    network = set_nn_weight(network, weight[:,i])\n",
    "    yVal = network(torch.tensor(x_data,dtype=torch.float32))\n",
    "    yVal = yVal.detach().numpy().transpose()\n",
    "    rms[i] = np.sqrt(np.sum((y_data-yVal)**2)/(n_trails-1))\n",
    "fig, ax = plt.subplots( figsize=(6,4) )\n",
    "ax.hist(rms,20)\n",
    "plt.show()\n",
    "\n"
   ]
  },
  {
   "cell_type": "code",
   "execution_count": 5,
   "metadata": {},
   "outputs": [
    {
     "data": {
      "text/plain": [
       "(100, 2)"
      ]
     },
     "execution_count": 5,
     "metadata": {},
     "output_type": "execute_result"
    }
   ],
   "source": [
    "x_data.shape\n"
   ]
  },
  {
   "cell_type": "code",
   "execution_count": null,
   "metadata": {},
   "outputs": [],
   "source": []
  },
  {
   "cell_type": "code",
   "execution_count": 145,
   "metadata": {},
   "outputs": [
    {
     "name": "stdout",
     "output_type": "stream",
     "text": [
      "torch.Size([100, 2])\n",
      "(100, 2) (100, 2) torch.Size([100, 2, 42])\n"
     ]
    },
    {
     "ename": "ValueError",
     "evalue": "matmul: Input operand 1 has a mismatch in its core dimension 0, with gufunc signature (n?,k),(k,m?)->(n?,m?) (size 2 is different from 42)",
     "output_type": "error",
     "traceback": [
      "\u001b[0;31m---------------------------------------------------------------------------\u001b[0m",
      "\u001b[0;31mValueError\u001b[0m                                Traceback (most recent call last)",
      "\u001b[1;32m/Users/bmomark/Library/CloudStorage/OneDrive-Personal/18_USC_22_fall/Math 467/Proj_1.1/python/test.ipynb Cell 27\u001b[0m in \u001b[0;36m<cell line: 61>\u001b[0;34m()\u001b[0m\n\u001b[1;32m     <a href='vscode-notebook-cell:/Users/bmomark/Library/CloudStorage/OneDrive-Personal/18_USC_22_fall/Math%20467/Proj_1.1/python/test.ipynb#X34sZmlsZQ%3D%3D?line=58'>59</a>\u001b[0m \u001b[39mprint\u001b[39m(ad_y_val\u001b[39m.\u001b[39mshape, delta_y_val\u001b[39m.\u001b[39mshape, y_grad\u001b[39m.\u001b[39mshape)\n\u001b[1;32m     <a href='vscode-notebook-cell:/Users/bmomark/Library/CloudStorage/OneDrive-Personal/18_USC_22_fall/Math%20467/Proj_1.1/python/test.ipynb#X34sZmlsZQ%3D%3D?line=60'>61</a>\u001b[0m \u001b[39mfor\u001b[39;00m k \u001b[39min\u001b[39;00m \u001b[39mrange\u001b[39m(delta_y_val\u001b[39m.\u001b[39mshape[\u001b[39m0\u001b[39m]):\n\u001b[0;32m---> <a href='vscode-notebook-cell:/Users/bmomark/Library/CloudStorage/OneDrive-Personal/18_USC_22_fall/Math%20467/Proj_1.1/python/test.ipynb#X34sZmlsZQ%3D%3D?line=61'>62</a>\u001b[0m     ad_y_val[k,:] \u001b[39m=\u001b[39m np\u001b[39m.\u001b[39;49mmatmul(d_weight,y_grad[k,:])\n\u001b[1;32m     <a href='vscode-notebook-cell:/Users/bmomark/Library/CloudStorage/OneDrive-Personal/18_USC_22_fall/Math%20467/Proj_1.1/python/test.ipynb#X34sZmlsZQ%3D%3D?line=63'>64</a>\u001b[0m relative_error \u001b[39m=\u001b[39m \u001b[39m100\u001b[39m\u001b[39m*\u001b[39m(delta_y_val\u001b[39m-\u001b[39mad_y_val)\u001b[39m/\u001b[39mdelta_y_val\n\u001b[1;32m     <a href='vscode-notebook-cell:/Users/bmomark/Library/CloudStorage/OneDrive-Personal/18_USC_22_fall/Math%20467/Proj_1.1/python/test.ipynb#X34sZmlsZQ%3D%3D?line=64'>65</a>\u001b[0m fig, ax \u001b[39m=\u001b[39m plt\u001b[39m.\u001b[39msubplots( figsize\u001b[39m=\u001b[39m(\u001b[39m6\u001b[39m,\u001b[39m4\u001b[39m) )\n",
      "\u001b[0;31mValueError\u001b[0m: matmul: Input operand 1 has a mismatch in its core dimension 0, with gufunc signature (n?,k),(k,m?)->(n?,m?) (size 2 is different from 42)"
     ]
    }
   ],
   "source": [
    "from importlib.metadata import requires\n",
    "\n",
    "\n",
    "network = create_network(2,[4,4,2])\n",
    "# visualize_nn(network)\n",
    "\n",
    "weight = get_nn_weight(network)\n",
    "weight = 0.01*randn(weight.shape)\n",
    "network = set_nn_weight(network,weight)\n",
    "\n",
    "# C = 11\n",
    "\n",
    "# x1 = -1+2*np.arange(C)\n",
    "# x2 = x1[:,np.newaxis]*np.ones((1,C))\n",
    "# x1 = np.ones((C,1))*x1\n",
    "# x_val = np.vstack((x1.reshape(1,-1),x2.reshape(1,-1)))\n",
    "# x_val = x_val.transpose()\n",
    "# print(\"x_val.shape = \",x_val.shape)\n",
    "\n",
    "# y_val = network(torch.tensor(x_val,dtype=torch.float32))\n",
    "# y_val = y_val.detach().numpy().transpose()\n",
    "# print(y_val.shape)\n",
    "# y1 = y_val[0,:].reshape(C,C)\n",
    "# y2 = y_val[1,:].reshape(C,C)\n",
    "# fig, ax = plt.subplots(1,2, figsize=(12,6))\n",
    "# ax[0].imshow(y1, extent=[-10,10,-10,10])\n",
    "# ax[0].set_xlabel('x_1')\n",
    "# ax[0].set_ylabel('x_2')\n",
    "# ax[0].set_title('y_1')\n",
    "# ax[1].imshow(y2, extent=[-10,10,-10,10])\n",
    "# ax[1].set_xlabel('x_1')\n",
    "# ax[1].set_ylabel('x_2')\n",
    "# ax[1].set_title('y_2')\n",
    "# ax[1].yaxis.tick_right()\n",
    "# ax[1].yaxis.set_label_position(\"right\")\n",
    "# plt.show(block=False)\n",
    "\n",
    "\n",
    "from torch.autograd import grad \n",
    "\n",
    "network.train()\n",
    "x_val = randn((100,2))\n",
    "x_val = torch.tensor(x_val,dtype=torch.float32, requires_grad=True)\n",
    "\n",
    "y_val = network(x_val)\n",
    "print(x_val.shape)\n",
    "y_grad = get_network_grad(network,x_val)\n",
    "# y_grad = grad(outputs=y_val, inputs=x_val, grad_outputs=torch.ones_like(y_val))\n",
    "# y_grad = y_grad[0].detach().numpy()\n",
    "\n",
    "d_weight = 0.00001*randn(weight.shape)\n",
    "network = set_nn_weight(network,weight+d_weight)\n",
    "network.zero_grad()\n",
    "y_val_new = network(x_val)\n",
    "\n",
    "delta_y_val = y_val_new - y_val\n",
    "delta_y_val = delta_y_val.detach().numpy()\n",
    "ad_y_val = np.zeros(delta_y_val.shape)\n",
    "print(ad_y_val.shape, delta_y_val.shape, y_grad.shape)\n",
    "\n",
    "for k in range(delta_y_val.shape[0]):\n",
    "    ad_y_val[k,:] = np.matmul(d_weight,y_grad[k,:])\n",
    "\n",
    "relative_error = 100*(delta_y_val-ad_y_val)/delta_y_val\n",
    "fig, ax = plt.subplots( figsize=(6,4) )\n",
    "l = len(relative_error)\n",
    "ax.plot(list(range(l)),relative_error,label='y_1')\n",
    "# ax.plot(list(range(l)),relative_error[:,1],label='y_2')\n",
    "ax.set_xlabel('Order of Input')\n",
    "ax.set_ylabel('Relative Error in Output Variation (percent)')\n",
    "plt.show(block=False)\n",
    "\n",
    "ad_y_val.shape, delta_y_val.shape\n",
    "\n",
    "\n",
    "\n",
    "\n",
    "\n",
    "\n"
   ]
  },
  {
   "cell_type": "code",
   "execution_count": null,
   "metadata": {},
   "outputs": [],
   "source": []
  },
  {
   "cell_type": "code",
   "execution_count": null,
   "metadata": {},
   "outputs": [],
   "source": [
    "network"
   ]
  },
  {
   "cell_type": "code",
   "execution_count": 330,
   "metadata": {},
   "outputs": [
    {
     "name": "stdout",
     "output_type": "stream",
     "text": [
      "(100, 2) (100, 2) torch.Size([100, 2, 22])\n"
     ]
    },
    {
     "data": {
      "image/png": "[encoded data removed]",
      "text/plain": [
       "<Figure size 432x288 with 1 Axes>"
      ]
     },
     "metadata": {
      "needs_background": "light"
     },
     "output_type": "display_data"
    },
    {
     "data": {
      "text/plain": [
       "((100, 2), (100, 2))"
      ]
     },
     "execution_count": 330,
     "metadata": {},
     "output_type": "execute_result"
    }
   ],
   "source": [
    "from importlib.metadata import requires\n",
    "\n",
    "network = create_network(2,[4,2])\n",
    "weight = get_nn_weight(network)\n",
    "weight = 0.01*randn(weight.shape)\n",
    "network = set_nn_weight(network,weight)\n",
    "\n",
    "from torch.autograd import grad \n",
    "\n",
    "network.train()\n",
    "x_val = randn((100,2))\n",
    "x_val = torch.tensor(x_val,dtype=torch.float32, requires_grad=True)\n",
    "\n",
    "y_val = network(x_val)\n",
    "network.zero_grad()\n",
    "y_grad = get_network_grad(network,x_val)\n",
    "\n",
    "# d_weight = 0.01*randn(weight.shape)*weight\n",
    "d_weight = 0.01*randn(weight.shape)*0.001\n",
    "network = set_nn_weight(network,weight+d_weight)\n",
    "y_val_new = network(x_val)\n",
    "\n",
    "delta_y_val = y_val_new - y_val\n",
    "delta_y_val = delta_y_val.detach().numpy()\n",
    "ad_y_val = np.zeros(delta_y_val.shape)\n",
    "print(ad_y_val.shape, delta_y_val.shape, y_grad.shape)\n",
    "\n",
    "for k in range(delta_y_val.shape[0]):\n",
    "    ad_y_val[k,:] = np.matmul(y_grad[k,:,:],d_weight)\n",
    "\n",
    "relative_error = (delta_y_val-ad_y_val)/delta_y_val\n",
    "fig, ax = plt.subplots( figsize=(6,4) )\n",
    "l = len(relative_error)\n",
    "ax.plot(list(range(l)),relative_error,label='y_1')\n",
    "# ax.plot(list(range(l)),relative_error[:,1],label='y_2')\n",
    "ax.set_xlabel('Order of Input')\n",
    "ax.set_ylabel('Relative Error in Output Variation (percent)')\n",
    "plt.show(block=False)\n",
    "\n",
    "ad_y_val.shape, delta_y_val.shape\n"
   ]
  },
  {
   "cell_type": "code",
   "execution_count": 287,
   "metadata": {},
   "outputs": [
    {
     "data": {
      "text/plain": [
       "(array([[-0.44970439],\n",
       "        [-0.86077588],\n",
       "        [-0.64784025]]),\n",
       " array([[ 1.29676697],\n",
       "        [ 0.36610847],\n",
       "        [-0.86330307]]),\n",
       " array([[ 0.84706258],\n",
       "        [-0.49466741],\n",
       "        [-1.51114332]]))"
      ]
     },
     "execution_count": 287,
     "metadata": {},
     "output_type": "execute_result"
    }
   ],
   "source": [
    "\n",
    "a = randn((3,1))\n",
    "b = randn((3,1))\n",
    "a,b,a+b"
   ]
  },
  {
   "cell_type": "code",
   "execution_count": null,
   "metadata": {},
   "outputs": [],
   "source": []
  },
  {
   "cell_type": "code",
   "execution_count": null,
   "metadata": {},
   "outputs": [],
   "source": []
  },
  {
   "cell_type": "code",
   "execution_count": 127,
   "metadata": {},
   "outputs": [
    {
     "data": {
      "text/plain": [
       "((42,), torch.Size([100, 2, 42]))"
      ]
     },
     "execution_count": 127,
     "metadata": {},
     "output_type": "execute_result"
    }
   ],
   "source": [
    "d_weight.shape, y_grad.shape\n",
    "\n",
    "y_grad"
   ]
  },
  {
   "cell_type": "code",
   "execution_count": 223,
   "metadata": {},
   "outputs": [
    {
     "name": "stdout",
     "output_type": "stream",
     "text": [
      "[ 0.20613569 -0.50939083 -0.00354767 -0.49197626 -0.62250495]\n"
     ]
    },
    {
     "data": {
      "text/plain": [
       "tensor([[[0.5000, 0.5000, 0.5000, 2.0000, 1.0000]],\n",
       "\n",
       "        [[0.5000, 1.5000, 0.5000, 4.0000, 1.0000]],\n",
       "\n",
       "        [[1.5000, 1.5000, 0.5000, 6.0000, 1.0000]]])"
      ]
     },
     "execution_count": 223,
     "metadata": {},
     "output_type": "execute_result"
    }
   ],
   "source": [
    "def get_network_grad(network,x_val):\n",
    "    grads = []\n",
    "    y_val = network(x_val)\n",
    "    for i in range(y_val.shape[0]):\n",
    "        batch_grad = []\n",
    "        for j in range(y_val.shape[1]):\n",
    "            batch_param_grad = []\n",
    "            y_val[i,j].backward(retain_graph=True)\n",
    "            for param in network.parameters():\n",
    "                batch_param_grad.append(param.grad.view(-1).clone().detach())\n",
    "                param.grad.data.zero_()\n",
    "            batch_grad.append(torch.cat(batch_param_grad))\n",
    "\n",
    "        grads.append(torch.stack(batch_grad))\n",
    "    return torch.stack(grads)\n",
    "\n",
    "# def get_network_grad_one(network, x_val_i):\n",
    "#     grads = []\n",
    "#     y_val = network(x_val_i)\n",
    "#     for i in y_val.shape[1]:\n",
    "\n",
    "#     network(x_val).mean(dim=1).backward()\n",
    "#     grads = []\n",
    "#     for param in network.parameters():\n",
    "#         grads.append(param.grad.view(-1))\n",
    "#     grads = torch.cat(grads)\n",
    "#     return grads\n",
    "\n",
    "import torch.nn as nn\n",
    "model = nn.Sequential(\n",
    "    nn.Linear(2, 1),\n",
    "    nn.Linear(1, 1)\n",
    ")\n",
    "w = get_nn_weight(model)\n",
    "print(w)\n",
    "w2 = 2*np.ones_like(w)\n",
    "model = set_nn_weight(model, np.asarray([ 1.,  1.,  0., 1/2., 0. ]))\n",
    "# model = set_nn_weight(model, np.asarray([ 2.,  2.,  2.,  2.,  2.,  2.,  2.,  2.,  1.]))\n",
    "# model = set_nn_weight(model, get_nn_weight(model))\n",
    "x = torch.tensor([[1,1],[1,3],[3,3]], dtype=torch.float32)\n",
    "grads = get_network_grad(model, x)\n",
    "\n",
    "\n",
    "grads\n",
    "\n",
    "\n",
    "\n",
    "\n"
   ]
  },
  {
   "cell_type": "code",
   "execution_count": null,
   "metadata": {},
   "outputs": [],
   "source": []
  },
  {
   "cell_type": "code",
   "execution_count": 119,
   "metadata": {},
   "outputs": [
    {
     "ename": "RuntimeError",
     "evalue": "grad can be implicitly created only for scalar outputs",
     "output_type": "error",
     "traceback": [
      "\u001b[0;31m---------------------------------------------------------------------------\u001b[0m",
      "\u001b[0;31mRuntimeError\u001b[0m                              Traceback (most recent call last)",
      "\u001b[1;32m/Users/bmomark/Library/CloudStorage/OneDrive-Personal/18_USC_22_fall/Math 467/Proj_1.1/python/test.ipynb Cell 31\u001b[0m in \u001b[0;36m<cell line: 1>\u001b[0;34m()\u001b[0m\n\u001b[0;32m----> <a href='vscode-notebook-cell:/Users/bmomark/Library/CloudStorage/OneDrive-Personal/18_USC_22_fall/Math%20467/Proj_1.1/python/test.ipynb#X61sZmlsZQ%3D%3D?line=0'>1</a>\u001b[0m network(x_val)\u001b[39m.\u001b[39;49mmean(dim\u001b[39m=\u001b[39;49m\u001b[39m1\u001b[39;49m)\u001b[39m.\u001b[39;49mbackward()\n",
      "File \u001b[0;32m~/opt/anaconda3/envs/m1_pytorch_p38/lib/python3.8/site-packages/torch/_tensor.py:484\u001b[0m, in \u001b[0;36mTensor.backward\u001b[0;34m(self, gradient, retain_graph, create_graph, inputs)\u001b[0m\n\u001b[1;32m    474\u001b[0m \u001b[39mif\u001b[39;00m has_torch_function_unary(\u001b[39mself\u001b[39m):\n\u001b[1;32m    475\u001b[0m     \u001b[39mreturn\u001b[39;00m handle_torch_function(\n\u001b[1;32m    476\u001b[0m         Tensor\u001b[39m.\u001b[39mbackward,\n\u001b[1;32m    477\u001b[0m         (\u001b[39mself\u001b[39m,),\n\u001b[0;32m   (...)\u001b[0m\n\u001b[1;32m    482\u001b[0m         inputs\u001b[39m=\u001b[39minputs,\n\u001b[1;32m    483\u001b[0m     )\n\u001b[0;32m--> 484\u001b[0m torch\u001b[39m.\u001b[39;49mautograd\u001b[39m.\u001b[39;49mbackward(\n\u001b[1;32m    485\u001b[0m     \u001b[39mself\u001b[39;49m, gradient, retain_graph, create_graph, inputs\u001b[39m=\u001b[39;49minputs\n\u001b[1;32m    486\u001b[0m )\n",
      "File \u001b[0;32m~/opt/anaconda3/envs/m1_pytorch_p38/lib/python3.8/site-packages/torch/autograd/__init__.py:184\u001b[0m, in \u001b[0;36mbackward\u001b[0;34m(tensors, grad_tensors, retain_graph, create_graph, grad_variables, inputs)\u001b[0m\n\u001b[1;32m    180\u001b[0m inputs \u001b[39m=\u001b[39m (inputs,) \u001b[39mif\u001b[39;00m \u001b[39misinstance\u001b[39m(inputs, torch\u001b[39m.\u001b[39mTensor) \u001b[39melse\u001b[39;00m \\\n\u001b[1;32m    181\u001b[0m     \u001b[39mtuple\u001b[39m(inputs) \u001b[39mif\u001b[39;00m inputs \u001b[39mis\u001b[39;00m \u001b[39mnot\u001b[39;00m \u001b[39mNone\u001b[39;00m \u001b[39melse\u001b[39;00m \u001b[39mtuple\u001b[39m()\n\u001b[1;32m    183\u001b[0m grad_tensors_ \u001b[39m=\u001b[39m _tensor_or_tensors_to_tuple(grad_tensors, \u001b[39mlen\u001b[39m(tensors))\n\u001b[0;32m--> 184\u001b[0m grad_tensors_ \u001b[39m=\u001b[39m _make_grads(tensors, grad_tensors_, is_grads_batched\u001b[39m=\u001b[39;49m\u001b[39mFalse\u001b[39;49;00m)\n\u001b[1;32m    185\u001b[0m \u001b[39mif\u001b[39;00m retain_graph \u001b[39mis\u001b[39;00m \u001b[39mNone\u001b[39;00m:\n\u001b[1;32m    186\u001b[0m     retain_graph \u001b[39m=\u001b[39m create_graph\n",
      "File \u001b[0;32m~/opt/anaconda3/envs/m1_pytorch_p38/lib/python3.8/site-packages/torch/autograd/__init__.py:85\u001b[0m, in \u001b[0;36m_make_grads\u001b[0;34m(outputs, grads, is_grads_batched)\u001b[0m\n\u001b[1;32m     83\u001b[0m \u001b[39mif\u001b[39;00m out\u001b[39m.\u001b[39mrequires_grad:\n\u001b[1;32m     84\u001b[0m     \u001b[39mif\u001b[39;00m out\u001b[39m.\u001b[39mnumel() \u001b[39m!=\u001b[39m \u001b[39m1\u001b[39m:\n\u001b[0;32m---> 85\u001b[0m         \u001b[39mraise\u001b[39;00m \u001b[39mRuntimeError\u001b[39;00m(\u001b[39m\"\u001b[39m\u001b[39mgrad can be implicitly created only for scalar outputs\u001b[39m\u001b[39m\"\u001b[39m)\n\u001b[1;32m     86\u001b[0m     new_grads\u001b[39m.\u001b[39mappend(torch\u001b[39m.\u001b[39mones_like(out, memory_format\u001b[39m=\u001b[39mtorch\u001b[39m.\u001b[39mpreserve_format))\n\u001b[1;32m     87\u001b[0m \u001b[39melse\u001b[39;00m:\n",
      "\u001b[0;31mRuntimeError\u001b[0m: grad can be implicitly created only for scalar outputs"
     ]
    }
   ],
   "source": []
  },
  {
   "cell_type": "code",
   "execution_count": null,
   "metadata": {},
   "outputs": [],
   "source": []
  },
  {
   "cell_type": "code",
   "execution_count": null,
   "metadata": {},
   "outputs": [],
   "source": []
  },
  {
   "cell_type": "code",
   "execution_count": 85,
   "metadata": {},
   "outputs": [
    {
     "ename": "RuntimeError",
     "evalue": "Could not infer dtype of generator",
     "output_type": "error",
     "traceback": [
      "\u001b[0;31m---------------------------------------------------------------------------\u001b[0m",
      "\u001b[0;31mRuntimeError\u001b[0m                              Traceback (most recent call last)",
      "\u001b[1;32m/Users/bmomark/Library/CloudStorage/OneDrive-Personal/18_USC_22_fall/Math 467/Proj_1.1/python/test.ipynb Cell 30\u001b[0m in \u001b[0;36m<cell line: 1>\u001b[0;34m()\u001b[0m\n\u001b[0;32m----> <a href='vscode-notebook-cell:/Users/bmomark/Library/CloudStorage/OneDrive-Personal/18_USC_22_fall/Math%20467/Proj_1.1/python/test.ipynb#X54sZmlsZQ%3D%3D?line=0'>1</a>\u001b[0m torch\u001b[39m.\u001b[39;49mtensor(model\u001b[39m.\u001b[39;49mparameters())\n",
      "\u001b[0;31mRuntimeError\u001b[0m: Could not infer dtype of generator"
     ]
    }
   ],
   "source": [
    "torch.tensor(model.parameters())\n",
    "\n"
   ]
  },
  {
   "cell_type": "code",
   "execution_count": null,
   "metadata": {},
   "outputs": [],
   "source": [
    "x"
   ]
  },
  {
   "cell_type": "code",
   "execution_count": null,
   "metadata": {},
   "outputs": [],
   "source": []
  },
  {
   "cell_type": "code",
   "execution_count": null,
   "metadata": {},
   "outputs": [],
   "source": []
  },
  {
   "cell_type": "code",
   "execution_count": 65,
   "metadata": {},
   "outputs": [
    {
     "name": "stderr",
     "output_type": "stream",
     "text": [
      "/var/folders/v2/pb99vmxs1tq5lz_90qs787rm0000gn/T/ipykernel_28421/2868340565.py:3: UserWarning: To copy construct from a tensor, it is recommended to use sourceTensor.clone().detach() or sourceTensor.clone().detach().requires_grad_(True), rather than torch.tensor(sourceTensor).\n",
      "  y_val = network(torch.tensor(x_val,dtype=torch.float32))\n"
     ]
    },
    {
     "ename": "AttributeError",
     "evalue": "'simple_network' object has no attribute 'backward'",
     "output_type": "error",
     "traceback": [
      "\u001b[0;31m---------------------------------------------------------------------------\u001b[0m",
      "\u001b[0;31mAttributeError\u001b[0m                            Traceback (most recent call last)",
      "\u001b[1;32m/Users/bmomark/Library/CloudStorage/OneDrive-Personal/18_USC_22_fall/Math 467/Proj_1.1/python/test.ipynb Cell 29\u001b[0m in \u001b[0;36m<cell line: 9>\u001b[0;34m()\u001b[0m\n\u001b[1;32m      <a href='vscode-notebook-cell:/Users/bmomark/Library/CloudStorage/OneDrive-Personal/18_USC_22_fall/Math%20467/Proj_1.1/python/test.ipynb#X43sZmlsZQ%3D%3D?line=4'>5</a>\u001b[0m \u001b[39m# y_grad = grad(outputs=y_val, inputs=x_val, grad_outputs=torch.ones_like(y_val), retain_graph=True)\u001b[39;00m\n\u001b[1;32m      <a href='vscode-notebook-cell:/Users/bmomark/Library/CloudStorage/OneDrive-Personal/18_USC_22_fall/Math%20467/Proj_1.1/python/test.ipynb#X43sZmlsZQ%3D%3D?line=7'>8</a>\u001b[0m external_grad \u001b[39m=\u001b[39m torch\u001b[39m.\u001b[39mtensor([\u001b[39m1.\u001b[39m, \u001b[39m1.\u001b[39m])\n\u001b[0;32m----> <a href='vscode-notebook-cell:/Users/bmomark/Library/CloudStorage/OneDrive-Personal/18_USC_22_fall/Math%20467/Proj_1.1/python/test.ipynb#X43sZmlsZQ%3D%3D?line=8'>9</a>\u001b[0m network\u001b[39m.\u001b[39;49mbackward(gradient\u001b[39m=\u001b[39mexternal_grad)\n\u001b[1;32m     <a href='vscode-notebook-cell:/Users/bmomark/Library/CloudStorage/OneDrive-Personal/18_USC_22_fall/Math%20467/Proj_1.1/python/test.ipynb#X43sZmlsZQ%3D%3D?line=10'>11</a>\u001b[0m \u001b[39mprint\u001b[39m(network\u001b[39m.\u001b[39mnetwork[\u001b[39m0\u001b[39m]\u001b[39m.\u001b[39mfc\u001b[39m.\u001b[39mweight\u001b[39m.\u001b[39mgrad)\n",
      "File \u001b[0;32m~/opt/anaconda3/envs/m1_pytorch_p38/lib/python3.8/site-packages/torch/nn/modules/module.py:1265\u001b[0m, in \u001b[0;36mModule.__getattr__\u001b[0;34m(self, name)\u001b[0m\n\u001b[1;32m   1263\u001b[0m     \u001b[39mif\u001b[39;00m name \u001b[39min\u001b[39;00m modules:\n\u001b[1;32m   1264\u001b[0m         \u001b[39mreturn\u001b[39;00m modules[name]\n\u001b[0;32m-> 1265\u001b[0m \u001b[39mraise\u001b[39;00m \u001b[39mAttributeError\u001b[39;00m(\u001b[39m\"\u001b[39m\u001b[39m'\u001b[39m\u001b[39m{}\u001b[39;00m\u001b[39m'\u001b[39m\u001b[39m object has no attribute \u001b[39m\u001b[39m'\u001b[39m\u001b[39m{}\u001b[39;00m\u001b[39m'\u001b[39m\u001b[39m\"\u001b[39m\u001b[39m.\u001b[39mformat(\n\u001b[1;32m   1266\u001b[0m     \u001b[39mtype\u001b[39m(\u001b[39mself\u001b[39m)\u001b[39m.\u001b[39m\u001b[39m__name__\u001b[39m, name))\n",
      "\u001b[0;31mAttributeError\u001b[0m: 'simple_network' object has no attribute 'backward'"
     ]
    }
   ],
   "source": [
    "network = create_network(2,[4,4,2])\n",
    "weight = get_nn_weight(network)\n",
    "y_val = network(torch.tensor(x_val,dtype=torch.float32))\n",
    "\n",
    "# y_grad = grad(outputs=y_val, inputs=x_val, grad_outputs=torch.ones_like(y_val), retain_graph=True)\n",
    "\n",
    "\n",
    "external_grad = torch.tensor([1., 1.])\n",
    "network.backward(gradient=external_grad)\n",
    "\n",
    "print(network.network[0].fc.weight.grad)\n"
   ]
  },
  {
   "cell_type": "code",
   "execution_count": null,
   "metadata": {},
   "outputs": [],
   "source": []
  },
  {
   "cell_type": "code",
   "execution_count": null,
   "metadata": {},
   "outputs": [],
   "source": []
  }
 ],
 "metadata": {
  "kernelspec": {
   "display_name": "Python 3.8.13 ('m1_pytorch_p38')",
   "language": "python",
   "name": "python3"
  },
  "language_info": {
   "codemirror_mode": {
    "name": "ipython",
    "version": 3
   },
   "file_extension": ".py",
   "mimetype": "text/x-python",
   "name": "python",
   "nbconvert_exporter": "python",
   "pygments_lexer": "ipython3",
   "version": "3.8.13"
  },
  "orig_nbformat": 4,
  "vscode": {
   "interpreter": {
    "hash": "37596c43300dcc0597d60f2e96f910a6b2d174f9b96a49b688c1b5d3ba80df53"
   }
  }
 },
 "nbformat": 4,
 "nbformat_minor": 2
}
